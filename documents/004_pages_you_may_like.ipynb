{
 "cells": [
  {
   "cell_type": "code",
   "execution_count": 2,
   "id": "76d08f9b-118a-403b-ab79-8e3582cc39e0",
   "metadata": {},
   "outputs": [
    {
     "name": "stdout",
     "output_type": "stream",
     "text": [
      "[103, 105, 107, 104, 106, 108, 109, 110, 111, 112, 113, 114, 115, 116, 117, 118, 119, 120, 121, 122, 123, 124, 125, 126, 127]\n"
     ]
    }
   ],
   "source": [
    "import json\n",
    "\n",
    "# Function to load the json data\n",
    "def load_data(filename):\n",
    "    with open (filename, 'r') as f:\n",
    "        return json.load(f)\n",
    "\n",
    "# Function to find pages a user might like based on common interest\n",
    "def find_pages_you_might_like(user_id, data):\n",
    "    # Dictionary to store user interactions with the pages\n",
    "    user_pages = {}\n",
    "\n",
    "    # Populate the above created dictionary\n",
    "    for user in data['users']:\n",
    "        user_pages[user['id']]=set(user['liked_pages'])\n",
    "\n",
    "    # If the user is not found, return an empty list\n",
    "    if user_id not in user_pages:\n",
    "        return []\n",
    "\n",
    "    # Stores the directly liked pages by the user\n",
    "    user_liked_pages = user_pages[user_id]\n",
    "\n",
    "    # Stores the score\n",
    "    page_suggestion = {}\n",
    "\n",
    "    for other_user, pages in user_pages.items():\n",
    "        # other_user because we don't want to process anything if the user is the same user which is provided in the function arguments for which we have to find the pages that he might like\n",
    "        if other_user != user_id:\n",
    "            # Find the common pages like by this other user and the user for which page recommendations have to be given\n",
    "            shared_pages = user_liked_pages.intersection(pages)\n",
    "\n",
    "        for page in pages:\n",
    "            if page not in user_liked_pages:\n",
    "                page_suggestion[page] = page_suggestion.get(page,0)+ len(shared_pages)\n",
    "\n",
    "    sorted_pages = sorted(page_suggestion.items(), key= lambda x : x[1], reverse=True)\n",
    "    return [ page_id for page_id, score in sorted_pages]\n",
    "\n",
    "data = load_data(\"massive_data.json\")\n",
    "user_id = 1\n",
    "page_recc = find_pages_you_might_like(user_id, data)\n",
    "print(page_recc)"
   ]
  },
  {
   "cell_type": "code",
   "execution_count": null,
   "id": "32de6dc7-5398-40af-86b4-41fcdf528a6f",
   "metadata": {},
   "outputs": [],
   "source": []
  }
 ],
 "metadata": {
  "kernelspec": {
   "display_name": "Python 3 (ipykernel)",
   "language": "python",
   "name": "python3"
  },
  "language_info": {
   "codemirror_mode": {
    "name": "ipython",
    "version": 3
   },
   "file_extension": ".py",
   "mimetype": "text/x-python",
   "name": "python",
   "nbconvert_exporter": "python",
   "pygments_lexer": "ipython3",
   "version": "3.13.3"
  }
 },
 "nbformat": 4,
 "nbformat_minor": 5
}
