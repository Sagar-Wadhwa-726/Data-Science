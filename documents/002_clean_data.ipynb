{
 "cells": [
  {
   "cell_type": "code",
   "execution_count": 24,
   "id": "d189c662-2e58-43e7-bfa8-bcd0e93798ae",
   "metadata": {},
   "outputs": [],
   "source": [
    "# Load the data\n",
    "import json"
   ]
  },
  {
   "cell_type": "code",
   "execution_count": 31,
   "id": "3a191483-34ef-4004-be04-4bf1b7a0ee76",
   "metadata": {},
   "outputs": [
    {
     "name": "stdout",
     "output_type": "stream",
     "text": [
      "Data has been cleaned successfully !\n"
     ]
    }
   ],
   "source": [
    "data = json.load(open('Desktop/Python/documents/data2.json'))\n",
    "\n",
    "def clean_data(data):\n",
    "    # Remove the users with missing names\n",
    "    data[\"users\"] = [user for user in data[\"users\"] if user['name'].strip()]\n",
    "\n",
    "    # Remove duplicate friends\n",
    "    for user in data['users']:\n",
    "        user['friends'] = list(set(user['friends']))\n",
    "\n",
    "    # Remove inactive users\n",
    "    data[\"users\"] = [user for user in data[\"users\"] if user['friends'] or user['liked_pages']]\n",
    "\n",
    "    # Remove duplicate pages\n",
    "    unique_pages = {}\n",
    "\n",
    "    for page in data['pages']:\n",
    "        unique_pages[page['id']]=page\n",
    "\n",
    "    data['pages']=list(unique_pages.values())\n",
    "        \n",
    "    return data\n",
    "    \n",
    "data = clean_data(data)\n",
    "\n",
    "\n",
    "json.dump(data, open(\"Desktop/Python/documents/cleaned_data_2.json\",\"w\"), indent=4)\n",
    "\n",
    "print(\"Data has been cleaned successfully !\")"
   ]
  },
  {
   "cell_type": "code",
   "execution_count": 32,
   "id": "4bf55eb5-f51f-42b9-bfcc-fa1151403ce0",
   "metadata": {},
   "outputs": [
    {
     "data": {
      "text/plain": [
       "{'users': [{'id': 1, 'name': 'Amit', 'friends': [2, 3], 'liked_pages': [101]},\n",
       "  {'id': 2, 'name': 'Priya', 'friends': [1, 4], 'liked_pages': [102]},\n",
       "  {'id': 4, 'name': 'Sara', 'friends': [2], 'liked_pages': [104]}],\n",
       " 'pages': [{'id': 101, 'name': 'Python Developers'},\n",
       "  {'id': 102, 'name': 'Data Science Enthusiasts'},\n",
       "  {'id': 103, 'name': 'AI & ML Community'},\n",
       "  {'id': 104, 'name': 'Web Development'}]}"
      ]
     },
     "execution_count": 32,
     "metadata": {},
     "output_type": "execute_result"
    }
   ],
   "source": [
    "data"
   ]
  },
  {
   "cell_type": "code",
   "execution_count": null,
   "id": "1a0b0a9a-7cfc-4d30-8a76-8c3ba88cf08f",
   "metadata": {},
   "outputs": [],
   "source": []
  }
 ],
 "metadata": {
  "kernelspec": {
   "display_name": "Python 3 (ipykernel)",
   "language": "python",
   "name": "python3"
  },
  "language_info": {
   "codemirror_mode": {
    "name": "ipython",
    "version": 3
   },
   "file_extension": ".py",
   "mimetype": "text/x-python",
   "name": "python",
   "nbconvert_exporter": "python",
   "pygments_lexer": "ipython3",
   "version": "3.13.3"
  }
 },
 "nbformat": 4,
 "nbformat_minor": 5
}
