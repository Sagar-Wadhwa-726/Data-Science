{
 "cells": [
  {
   "cell_type": "code",
   "execution_count": 1,
   "id": "71b765b2-739c-4129-b365-e4fdac77d193",
   "metadata": {},
   "outputs": [],
   "source": [
    "import json"
   ]
  },
  {
   "cell_type": "code",
   "execution_count": 2,
   "id": "323e298c-b4c3-462a-a6f9-4a7ec15a5db7",
   "metadata": {},
   "outputs": [],
   "source": [
    "# Function that loads the data\n",
    "def load_data(filename):\n",
    "    with open(filename, \"r\") as f:\n",
    "        # loads has not been used since the data is not a string, it is a json data\n",
    "        data = json.load(f)\n",
    "    return data"
   ]
  },
  {
   "cell_type": "code",
   "execution_count": 5,
   "id": "dd718b40-b16c-40dd-8a78-a35e976c2635",
   "metadata": {},
   "outputs": [],
   "source": [
    "data = load_data('data.json')"
   ]
  },
  {
   "cell_type": "code",
   "execution_count": 6,
   "id": "29298938-80a8-4f5f-b4e2-32c02f460c55",
   "metadata": {},
   "outputs": [],
   "source": [
    "# Write a function to display users and their connections\n",
    "def display_users(data):\n",
    "    print(\"Users and their connections : \")\n",
    "    for user in data['users']:\n",
    "        print(f\"ID:{user['id']} - {user['name']} is friends with {user['friends']} and likes pages are {user['liked_pages']}\")\n",
    "    print(\"\\nPages information : \")\n",
    "    for page in data['pages']:\n",
    "        print(f\"{page['id']} : {page['name']}\")"
   ]
  },
  {
   "cell_type": "code",
   "execution_count": 7,
   "id": "e7b97266-59e6-421a-911d-c805e61c3248",
   "metadata": {},
   "outputs": [
    {
     "name": "stdout",
     "output_type": "stream",
     "text": [
      "Users and their connections : \n",
      "ID:1 - Amit is friends with [2, 3] and likes pages are [101]\n",
      "ID:2 - Priya is friends with [1, 4] and likes pages are [102]\n",
      "ID:3 - Rahul is friends with [1] and likes pages are [101, 103]\n",
      "ID:4 - Sara is friends with [2] and likes pages are [104]\n",
      "\n",
      "Pages information : \n",
      "101 : Python Developers\n",
      "102 : Data Science Enthusiasts\n",
      "103 : AI & ML Community\n",
      "104 : Web Dev Hub\n"
     ]
    }
   ],
   "source": [
    "display_users(data)"
   ]
  },
  {
   "cell_type": "code",
   "execution_count": null,
   "id": "c21f0a17-49b1-4573-8c55-4ac876ab5ed2",
   "metadata": {},
   "outputs": [],
   "source": []
  }
 ],
 "metadata": {
  "kernelspec": {
   "display_name": "Python 3 (ipykernel)",
   "language": "python",
   "name": "python3"
  },
  "language_info": {
   "codemirror_mode": {
    "name": "ipython",
    "version": 3
   },
   "file_extension": ".py",
   "mimetype": "text/x-python",
   "name": "python",
   "nbconvert_exporter": "python",
   "pygments_lexer": "ipython3",
   "version": "3.13.3"
  }
 },
 "nbformat": 4,
 "nbformat_minor": 5
}
