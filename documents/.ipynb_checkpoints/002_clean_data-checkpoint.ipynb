{
 "cells": [
  {
   "cell_type": "code",
   "execution_count": 21,
   "id": "d189c662-2e58-43e7-bfa8-bcd0e93798ae",
   "metadata": {},
   "outputs": [],
   "source": [
    "# Load the data\n",
    "import json"
   ]
  },
  {
   "cell_type": "code",
   "execution_count": 22,
   "id": "3a191483-34ef-4004-be04-4bf1b7a0ee76",
   "metadata": {},
   "outputs": [
    {
     "name": "stdout",
     "output_type": "stream",
     "text": [
      "Data has been cleaned successfully !\n"
     ]
    }
   ],
   "source": [
    "data = json.load(open(\"Desktop/Python/documents/data2.json\"))\n",
    "data = clean_data(data)\n",
    "json.dump(data, open(\"cleaned_data_2.json\",\"w\"), indent=4)\n",
    "print()"
   ]
  },
  {
   "cell_type": "code",
   "execution_count": 23,
   "id": "4bf55eb5-f51f-42b9-bfcc-fa1151403ce0",
   "metadata": {},
   "outputs": [],
   "source": [
    "def clean_data(data):\n",
    "    # Remove the users with missing names\n",
    "    data[\"users\"] = [user for user in data[\"users\"] if user['name'].strip()]\n",
    "    return data"
   ]
  },
  {
   "cell_type": "code",
   "execution_count": null,
   "id": "1a0b0a9a-7cfc-4d30-8a76-8c3ba88cf08f",
   "metadata": {},
   "outputs": [],
   "source": []
  }
 ],
 "metadata": {
  "kernelspec": {
   "display_name": "Python 3 (ipykernel)",
   "language": "python",
   "name": "python3"
  },
  "language_info": {
   "codemirror_mode": {
    "name": "ipython",
    "version": 3
   },
   "file_extension": ".py",
   "mimetype": "text/x-python",
   "name": "python",
   "nbconvert_exporter": "python",
   "pygments_lexer": "ipython3",
   "version": "3.13.3"
  }
 },
 "nbformat": 4,
 "nbformat_minor": 5
}
