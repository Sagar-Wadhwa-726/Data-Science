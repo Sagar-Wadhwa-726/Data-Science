{
 "cells": [
  {
   "cell_type": "code",
   "execution_count": 10,
   "id": "12d5c077-10d4-40e6-b8e9-879dab0101ed",
   "metadata": {},
   "outputs": [
    {
     "name": "stdout",
     "output_type": "stream",
     "text": [
      "[11, 6, 4, 7, 14, 15, 18, 1, 2, 3, 13, 22]\n"
     ]
    }
   ],
   "source": [
    "import json\n",
    "\n",
    "def load_data(filename):\n",
    "    with open(filename,'r') as f:\n",
    "        return json.load(f)\n",
    "\n",
    "def find_people_you_may_know(user_id, data):\n",
    "    user_friends = {}\n",
    "    for user in data['users']:\n",
    "        user_friends[user['id']]=set(user['friends'])\n",
    "\n",
    "    if user_id not in user_friends:\n",
    "        return []\n",
    "\n",
    "    direct_friends = user_friends[user_id]\n",
    "\n",
    "    suggestions = {}\n",
    "\n",
    "    for friend in direct_friends:\n",
    "        for mutual in user_friends[friend]:\n",
    "            # suppose 1 is having friend 2,3. In this innser loop we are iterating over friends of friend\n",
    "            # basically we are finding the friend of friends of user_id, but they should not be equal to the user_id itself\n",
    "            # for which we are providing reccommendations and should not be a direct friend with the user_id also\n",
    "            if mutual!=user_id and mutual not in direct_friends:\n",
    "                # more the score, more the strong reccommendations\n",
    "                suggestions[mutual]=suggestions.get(mutual,0)+1\n",
    "\n",
    "    sorted_suggestions = sorted(suggestions.items(), key= lambda x : x[1], reverse=True)\n",
    "    return [user_id for user_id, mutual_count in sorted_suggestions]\n",
    "    \n",
    "# Load the data\n",
    "data = load_data(\"massive_data.json\")\n",
    "user_id = 10;\n",
    "recc = find_people_you_may_know(user_id,data)\n",
    "print(recc)"
   ]
  }
 ],
 "metadata": {
  "kernelspec": {
   "display_name": "Python 3 (ipykernel)",
   "language": "python",
   "name": "python3"
  },
  "language_info": {
   "codemirror_mode": {
    "name": "ipython",
    "version": 3
   },
   "file_extension": ".py",
   "mimetype": "text/x-python",
   "name": "python",
   "nbconvert_exporter": "python",
   "pygments_lexer": "ipython3",
   "version": "3.13.3"
  }
 },
 "nbformat": 4,
 "nbformat_minor": 5
}
