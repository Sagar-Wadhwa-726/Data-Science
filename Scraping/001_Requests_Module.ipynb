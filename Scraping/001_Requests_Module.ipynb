{
 "cells": [
  {
   "cell_type": "code",
   "execution_count": 1,
   "id": "8e5f78ca-1e07-4992-82d8-ce1534b580ed",
   "metadata": {},
   "outputs": [],
   "source": [
    "import requests"
   ]
  },
  {
   "cell_type": "code",
   "execution_count": 7,
   "id": "9f7c8c54-ad1a-4051-8db3-07e902ff9d9f",
   "metadata": {},
   "outputs": [
    {
     "name": "stdout",
     "output_type": "stream",
     "text": [
      "page-1 HTML downloaded !\n",
      "page-2 HTML downloaded !\n",
      "page-3 HTML downloaded !\n",
      "page-4 HTML downloaded !\n",
      "page-5 HTML downloaded !\n",
      "page-6 HTML downloaded !\n",
      "page-7 HTML downloaded !\n",
      "page-8 HTML downloaded !\n",
      "page-9 HTML downloaded !\n",
      "page-10 HTML downloaded !\n",
      "page-11 HTML downloaded !\n",
      "page-12 HTML downloaded !\n",
      "page-13 HTML downloaded !\n",
      "page-14 HTML downloaded !\n",
      "page-15 HTML downloaded !\n",
      "page-16 HTML downloaded !\n",
      "page-17 HTML downloaded !\n",
      "page-18 HTML downloaded !\n",
      "page-19 HTML downloaded !\n",
      "page-20 HTML downloaded !\n",
      "page-21 HTML downloaded !\n",
      "page-22 HTML downloaded !\n",
      "page-23 HTML downloaded !\n",
      "page-24 HTML downloaded !\n",
      "page-25 HTML downloaded !\n",
      "page-26 HTML downloaded !\n",
      "page-27 HTML downloaded !\n",
      "page-28 HTML downloaded !\n",
      "page-29 HTML downloaded !\n",
      "page-30 HTML downloaded !\n",
      "page-31 HTML downloaded !\n",
      "page-32 HTML downloaded !\n",
      "page-33 HTML downloaded !\n",
      "page-34 HTML downloaded !\n",
      "page-35 HTML downloaded !\n",
      "page-36 HTML downloaded !\n",
      "page-37 HTML downloaded !\n",
      "page-38 HTML downloaded !\n",
      "page-39 HTML downloaded !\n",
      "page-40 HTML downloaded !\n",
      "page-41 HTML downloaded !\n",
      "page-42 HTML downloaded !\n",
      "page-43 HTML downloaded !\n",
      "page-44 HTML downloaded !\n",
      "page-45 HTML downloaded !\n",
      "page-46 HTML downloaded !\n",
      "page-47 HTML downloaded !\n",
      "page-48 HTML downloaded !\n",
      "page-49 HTML downloaded !\n",
      "page-50 HTML downloaded !\n"
     ]
    }
   ],
   "source": [
    "for i in range(1,51):\n",
    "    a = requests.get(f\"https://books.toscrape.com/catalogue/page-{i}.html\")\n",
    "    if(a.status_code==200):\n",
    "        print(f\"page-{i} HTML downloaded !\")\n",
    "    else:\n",
    "        print(f\"There was some error while downloading content for page-{i}\")\n",
    "    with open(f\"htmls/page-{i}.html\",\"w\") as f:\n",
    "        f.write(a.text)\n"
   ]
  },
  {
   "cell_type": "code",
   "execution_count": null,
   "id": "17cad736-519f-4794-8f8b-e45334f7390f",
   "metadata": {},
   "outputs": [],
   "source": []
  }
 ],
 "metadata": {
  "kernelspec": {
   "display_name": "Python 3 (ipykernel)",
   "language": "python",
   "name": "python3"
  },
  "language_info": {
   "codemirror_mode": {
    "name": "ipython",
    "version": 3
   },
   "file_extension": ".py",
   "mimetype": "text/x-python",
   "name": "python",
   "nbconvert_exporter": "python",
   "pygments_lexer": "ipython3",
   "version": "3.13.3"
  }
 },
 "nbformat": 4,
 "nbformat_minor": 5
}
