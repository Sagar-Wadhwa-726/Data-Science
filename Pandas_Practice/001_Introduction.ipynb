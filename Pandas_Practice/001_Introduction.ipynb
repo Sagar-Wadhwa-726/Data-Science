{
 "cells": [
  {
   "cell_type": "code",
   "execution_count": 3,
   "id": "88ccaa20-8f7e-42ae-8bd5-8d2471ec42ff",
   "metadata": {},
   "outputs": [],
   "source": [
    "import pandas as pd"
   ]
  },
  {
   "cell_type": "code",
   "execution_count": 8,
   "id": "bdfd7dfa-7ef1-42f9-a045-3c017b66f692",
   "metadata": {},
   "outputs": [
    {
     "name": "stdout",
     "output_type": "stream",
     "text": [
      "0    71\n",
      "1    84\n",
      "2    56\n",
      "3    23\n",
      "4    56\n",
      "5    98\n",
      "6    56\n",
      "dtype: int64\n"
     ]
    }
   ],
   "source": [
    "s1 = pd.Series([71,84,56,23,56,98,56])\n",
    "print(s1)"
   ]
  },
  {
   "cell_type": "code",
   "execution_count": 12,
   "id": "c5bd3c85-9e69-4084-9c94-cbe536e05d19",
   "metadata": {},
   "outputs": [
    {
     "data": {
      "text/plain": [
       "Harry     71\n",
       "Sagar     84\n",
       "John      56\n",
       "Rehan     23\n",
       "Dhwani    56\n",
       "Pragya    98\n",
       "Shubh     56\n",
       "dtype: int64"
      ]
     },
     "execution_count": 12,
     "metadata": {},
     "output_type": "execute_result"
    }
   ],
   "source": [
    "s2 = pd.Series([71,84,56,23,56,98,56], index=['Harry','Sagar','John','Rehan','Dhwani','Pragya','Shubh'])\n",
    "s2"
   ]
  },
  {
   "cell_type": "code",
   "execution_count": 16,
   "id": "b0efab96-1bb6-491b-9e45-36e80fba9dcd",
   "metadata": {},
   "outputs": [],
   "source": [
    "# Dataframe - 2D labelled array\n",
    "# Like a dictionary of series (not exactly)\n",
    "data = {\n",
    "    \"name\" : [\"Alice\", \"Bob\",\"Charlie\"],\n",
    "    \"age\" : [25,30,35],\n",
    "    \"city\" : [\"Delhi\", \"Mumbai\", \"Banglore\"]\n",
    "}"
   ]
  },
  {
   "cell_type": "code",
   "execution_count": 17,
   "id": "0cc36489-52b9-4e0c-8ca2-fdff3cef502f",
   "metadata": {},
   "outputs": [],
   "source": [
    "s3 = pd.DataFrame(data) # It's like storing tabular data in a variable in python"
   ]
  },
  {
   "cell_type": "code",
   "execution_count": 18,
   "id": "69e422ca-4410-4bd0-8b6a-6630770c6048",
   "metadata": {},
   "outputs": [
    {
     "name": "stdout",
     "output_type": "stream",
     "text": [
      "      name  age      city\n",
      "0    Alice   25     Delhi\n",
      "1      Bob   30    Mumbai\n",
      "2  Charlie   35  Banglore\n"
     ]
    }
   ],
   "source": [
    "print(s3)"
   ]
  },
  {
   "cell_type": "code",
   "execution_count": 19,
   "id": "cb8c0bb0-1e54-471c-a493-debff055a24d",
   "metadata": {},
   "outputs": [
    {
     "data": {
      "text/plain": [
       "RangeIndex(start=0, stop=3, step=1)"
      ]
     },
     "execution_count": 19,
     "metadata": {},
     "output_type": "execute_result"
    }
   ],
   "source": [
    "s3.index"
   ]
  },
  {
   "cell_type": "code",
   "execution_count": 20,
   "id": "3524db81-fc6a-47ea-848e-210efeb9f205",
   "metadata": {},
   "outputs": [
    {
     "data": {
      "text/plain": [
       "Index(['name', 'age', 'city'], dtype='object')"
      ]
     },
     "execution_count": 20,
     "metadata": {},
     "output_type": "execute_result"
    }
   ],
   "source": [
    "s3.columns"
   ]
  },
  {
   "cell_type": "code",
   "execution_count": null,
   "id": "92d0e0a3-40a8-4710-ac5b-e30572d4745d",
   "metadata": {},
   "outputs": [],
   "source": []
  }
 ],
 "metadata": {
  "kernelspec": {
   "display_name": "Python 3 (ipykernel)",
   "language": "python",
   "name": "python3"
  },
  "language_info": {
   "codemirror_mode": {
    "name": "ipython",
    "version": 3
   },
   "file_extension": ".py",
   "mimetype": "text/x-python",
   "name": "python",
   "nbconvert_exporter": "python",
   "pygments_lexer": "ipython3",
   "version": "3.13.3"
  }
 },
 "nbformat": 4,
 "nbformat_minor": 5
}
