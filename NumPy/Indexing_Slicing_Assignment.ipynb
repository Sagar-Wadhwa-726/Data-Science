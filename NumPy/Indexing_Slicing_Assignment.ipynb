{
 "cells": [
  {
   "cell_type": "code",
   "execution_count": 6,
   "id": "c93f61e7-4ded-492c-9e55-77406ebfe0b2",
   "metadata": {},
   "outputs": [],
   "source": [
    "import numpy as np\n",
    "import random "
   ]
  },
  {
   "cell_type": "code",
   "execution_count": 15,
   "id": "15b84723-906b-4827-a93a-0aaa3b6dc48b",
   "metadata": {},
   "outputs": [
    {
     "data": {
      "text/plain": [
       "array([[87, 93,  8],\n",
       "       [14, 54,  5],\n",
       "       [85, 40, 24]])"
      ]
     },
     "execution_count": 15,
     "metadata": {},
     "output_type": "execute_result"
    }
   ],
   "source": [
    "random_array = np.random.randint(1,100,size=(3,3))\n",
    "random_array"
   ]
  },
  {
   "cell_type": "code",
   "execution_count": 17,
   "id": "d5a11519-42b5-4368-9f6c-b699ef88a6ff",
   "metadata": {},
   "outputs": [
    {
     "data": {
      "text/plain": [
       "(3, 3)"
      ]
     },
     "execution_count": 17,
     "metadata": {},
     "output_type": "execute_result"
    }
   ],
   "source": [
    "random_array.shape"
   ]
  },
  {
   "cell_type": "code",
   "execution_count": 27,
   "id": "9a6013b2-5715-4242-ad3b-29ee055cc3fe",
   "metadata": {},
   "outputs": [
    {
     "data": {
      "text/plain": [
       "dtype('float64')"
      ]
     },
     "execution_count": 27,
     "metadata": {},
     "output_type": "execute_result"
    }
   ],
   "source": [
    "array_of_floats = np.array([1.1, 2.2, 3.3])\n",
    "array_of_floats.dtype"
   ]
  },
  {
   "cell_type": "code",
   "execution_count": 28,
   "id": "226e958d-3d02-460b-9856-13338197b272",
   "metadata": {},
   "outputs": [],
   "source": [
    "array_of_floats = array_of_floats.astype('int64')"
   ]
  },
  {
   "cell_type": "code",
   "execution_count": 29,
   "id": "e6fb3d5c-4785-4369-ab0d-ab353ae97b47",
   "metadata": {},
   "outputs": [
    {
     "data": {
      "text/plain": [
       "array([1, 2, 3])"
      ]
     },
     "execution_count": 29,
     "metadata": {},
     "output_type": "execute_result"
    }
   ],
   "source": [
    "array_of_floats"
   ]
  },
  {
   "cell_type": "code",
   "execution_count": 30,
   "id": "5db2db61-2d68-4a8d-9ca9-1aacad876dc0",
   "metadata": {},
   "outputs": [
    {
     "data": {
      "text/plain": [
       "dtype('int64')"
      ]
     },
     "execution_count": 30,
     "metadata": {},
     "output_type": "execute_result"
    }
   ],
   "source": [
    "array_of_floats.dtype"
   ]
  },
  {
   "cell_type": "code",
   "execution_count": 41,
   "id": "fde981bf-21ba-4cf3-a958-802c52ed6933",
   "metadata": {},
   "outputs": [
    {
     "data": {
      "text/plain": [
       "array([False,  True, False,  True, False,  True])"
      ]
     },
     "execution_count": 41,
     "metadata": {},
     "output_type": "execute_result"
    }
   ],
   "source": [
    "fancy = np.array([1, 2, 3, 4, 5, 6])\n",
    "even_mask = fancy % 2 == 0\n",
    "even_mask"
   ]
  },
  {
   "cell_type": "code",
   "execution_count": 42,
   "id": "c345ba9e-2007-4d04-8561-659287a96dbd",
   "metadata": {},
   "outputs": [
    {
     "data": {
      "text/plain": [
       "array([2, 4, 6])"
      ]
     },
     "execution_count": 42,
     "metadata": {},
     "output_type": "execute_result"
    }
   ],
   "source": [
    "fancy = fancy[even_mask]\n",
    "fancy"
   ]
  },
  {
   "cell_type": "code",
   "execution_count": 48,
   "id": "8fe1e061-ed07-43d1-a0d4-39092ad731bd",
   "metadata": {},
   "outputs": [],
   "source": [
    "one_d = np.full(9,8)"
   ]
  },
  {
   "cell_type": "code",
   "execution_count": 49,
   "id": "104a029b-b4a4-4bf9-9e50-54c15d3c2290",
   "metadata": {},
   "outputs": [
    {
     "data": {
      "text/plain": [
       "array([[8, 8, 8],\n",
       "       [8, 8, 8],\n",
       "       [8, 8, 8]])"
      ]
     },
     "execution_count": 49,
     "metadata": {},
     "output_type": "execute_result"
    }
   ],
   "source": [
    "np.reshape(one_d,(3,3))"
   ]
  },
  {
   "cell_type": "code",
   "execution_count": 50,
   "id": "1ce367ba-8b79-41aa-8bee-7e00e0b3f51d",
   "metadata": {},
   "outputs": [
    {
     "data": {
      "text/plain": [
       "array([  1,   2,   3,   4,  55, 394,  32,  53,   4,  32,   5,  36, 346,\n",
       "        99,  69,  24, 367,  55,   2])"
      ]
     },
     "execution_count": 50,
     "metadata": {},
     "output_type": "execute_result"
    }
   ],
   "source": [
    "boolean_masking = np.array([1,2,3,4,55,394,32,53,4,32,5,36,346,99,69,24,367,55,2])\n",
    "boolean_masking"
   ]
  },
  {
   "cell_type": "code",
   "execution_count": 51,
   "id": "a0176989-0596-4b54-9593-cf2c30860cad",
   "metadata": {},
   "outputs": [
    {
     "data": {
      "text/plain": [
       "array([ 55, 394,  53, 346,  99,  69, 367,  55])"
      ]
     },
     "execution_count": 51,
     "metadata": {},
     "output_type": "execute_result"
    }
   ],
   "source": [
    "boolean_masking[boolean_masking>50]"
   ]
  },
  {
   "cell_type": "code",
   "execution_count": null,
   "id": "44e32974-20f3-4bbf-98ae-760dd3a71017",
   "metadata": {},
   "outputs": [],
   "source": []
  }
 ],
 "metadata": {
  "kernelspec": {
   "display_name": "Python 3 (ipykernel)",
   "language": "python",
   "name": "python3"
  },
  "language_info": {
   "codemirror_mode": {
    "name": "ipython",
    "version": 3
   },
   "file_extension": ".py",
   "mimetype": "text/x-python",
   "name": "python",
   "nbconvert_exporter": "python",
   "pygments_lexer": "ipython3",
   "version": "3.13.3"
  }
 },
 "nbformat": 4,
 "nbformat_minor": 5
}
