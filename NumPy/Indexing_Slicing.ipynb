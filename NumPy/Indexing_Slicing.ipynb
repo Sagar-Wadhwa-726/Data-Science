{
 "cells": [
  {
   "cell_type": "code",
   "execution_count": 1,
   "id": "036e8fd2-1d20-462a-b048-3893f4b555a6",
   "metadata": {},
   "outputs": [],
   "source": [
    "import numpy as np"
   ]
  },
  {
   "cell_type": "code",
   "execution_count": 4,
   "id": "6bd922bb-8bd7-4519-81ba-07d43b0642c9",
   "metadata": {},
   "outputs": [
    {
     "data": {
      "text/plain": [
       "array([[ 1,  2,  3],\n",
       "       [ 4,  5,  6],\n",
       "       [ 7,  8,  9],\n",
       "       [11, 12, 13]])"
      ]
     },
     "execution_count": 4,
     "metadata": {},
     "output_type": "execute_result"
    }
   ],
   "source": [
    "arr = np.array([[1,2,3],[4,5,6],[7,8,9],[11,12,13]])\n",
    "arr"
   ]
  },
  {
   "cell_type": "code",
   "execution_count": 5,
   "id": "b88e7fd2-5a16-4ba4-b58a-6c2a1e7544b9",
   "metadata": {},
   "outputs": [],
   "source": [
    "flat = arr.flatten()"
   ]
  },
  {
   "cell_type": "code",
   "execution_count": 6,
   "id": "d864517f-f66f-430b-88be-3fcf3ba8716d",
   "metadata": {},
   "outputs": [
    {
     "data": {
      "text/plain": [
       "array([ 1,  2,  3,  4,  5,  6,  7,  8,  9, 11, 12, 13])"
      ]
     },
     "execution_count": 6,
     "metadata": {},
     "output_type": "execute_result"
    }
   ],
   "source": [
    "flat"
   ]
  },
  {
   "cell_type": "code",
   "execution_count": 8,
   "id": "eac14cb9-2f81-4116-8029-6644d959b61a",
   "metadata": {},
   "outputs": [
    {
     "name": "stdout",
     "output_type": "stream",
     "text": [
      "1\n"
     ]
    }
   ],
   "source": [
    "print(flat[0])"
   ]
  },
  {
   "cell_type": "code",
   "execution_count": 9,
   "id": "309a76a0-c27d-46e9-812d-c7095534333f",
   "metadata": {},
   "outputs": [
    {
     "data": {
      "text/plain": [
       "array([1, 2, 3, 4, 5])"
      ]
     },
     "execution_count": 9,
     "metadata": {},
     "output_type": "execute_result"
    }
   ],
   "source": [
    "flat[:5]"
   ]
  },
  {
   "cell_type": "code",
   "execution_count": 10,
   "id": "116f2182-6558-438c-a7ec-38bedf6531bf",
   "metadata": {},
   "outputs": [
    {
     "data": {
      "text/plain": [
       "array([ 4,  5,  6,  7,  8,  9, 11, 12, 13])"
      ]
     },
     "execution_count": 10,
     "metadata": {},
     "output_type": "execute_result"
    }
   ],
   "source": [
    "flat[3:]"
   ]
  },
  {
   "cell_type": "code",
   "execution_count": 11,
   "id": "d18e7ce6-e2cf-41f7-9861-2bf00aa6af21",
   "metadata": {},
   "outputs": [
    {
     "data": {
      "text/plain": [
       "array([ 4,  5,  6,  7,  8,  9, 11, 12, 13])"
      ]
     },
     "execution_count": 11,
     "metadata": {},
     "output_type": "execute_result"
    }
   ],
   "source": [
    "flat[3:13]"
   ]
  },
  {
   "cell_type": "code",
   "execution_count": 12,
   "id": "66946a5f-d71b-4238-93cb-2872713c1029",
   "metadata": {},
   "outputs": [
    {
     "data": {
      "text/plain": [
       "array([ 1,  3,  5,  7,  9, 12])"
      ]
     },
     "execution_count": 12,
     "metadata": {},
     "output_type": "execute_result"
    }
   ],
   "source": [
    " # Getting every second element from the numpy array\n",
    "flat[::2]"
   ]
  },
  {
   "cell_type": "code",
   "execution_count": 13,
   "id": "e435717b-055a-4b85-8465-b0a25d0d1c9c",
   "metadata": {},
   "outputs": [
    {
     "data": {
      "text/plain": [
       "array([ 1,  2,  3,  4,  5,  6,  7,  8,  9, 11, 12, 13])"
      ]
     },
     "execution_count": 13,
     "metadata": {},
     "output_type": "execute_result"
    }
   ],
   "source": [
    "# SLICING RETURNS A VIEW NOT A COPY ! NUMPY ARRAY DOES NOT CREATE A COPY ! PYTHON LISTS CREATE A COPY\n",
    "# This makes numpy array faster since same memory location is being referred\n",
    "flat"
   ]
  },
  {
   "cell_type": "code",
   "execution_count": 14,
   "id": "4f7270f5-c78a-4b71-b1cc-85274a5de6de",
   "metadata": {},
   "outputs": [],
   "source": [
    "b = flat[3:7]"
   ]
  },
  {
   "cell_type": "code",
   "execution_count": 15,
   "id": "7a86fa71-2fe6-4c27-8d8d-9cc32024c8e4",
   "metadata": {},
   "outputs": [
    {
     "data": {
      "text/plain": [
       "array([4, 5, 6, 7])"
      ]
     },
     "execution_count": 15,
     "metadata": {},
     "output_type": "execute_result"
    }
   ],
   "source": [
    "b"
   ]
  },
  {
   "cell_type": "code",
   "execution_count": 16,
   "id": "437e1368-cc3d-4c05-81b1-c387db2fdca1",
   "metadata": {},
   "outputs": [],
   "source": [
    "b[0] = 444444"
   ]
  },
  {
   "cell_type": "code",
   "execution_count": 17,
   "id": "27656d8e-124e-44d6-b9bd-d1a99925db9b",
   "metadata": {},
   "outputs": [
    {
     "data": {
      "text/plain": [
       "array([444444,      5,      6,      7])"
      ]
     },
     "execution_count": 17,
     "metadata": {},
     "output_type": "execute_result"
    }
   ],
   "source": [
    "b"
   ]
  },
  {
   "cell_type": "code",
   "execution_count": 18,
   "id": "fa6fe7cb-6287-454e-8134-f1c6f9182fc2",
   "metadata": {},
   "outputs": [
    {
     "data": {
      "text/plain": [
       "array([     1,      2,      3, 444444,      5,      6,      7,      8,\n",
       "            9,     11,     12,     13])"
      ]
     },
     "execution_count": 18,
     "metadata": {},
     "output_type": "execute_result"
    }
   ],
   "source": [
    "flat"
   ]
  },
  {
   "cell_type": "code",
   "execution_count": 19,
   "id": "e674a3a3-3782-4da8-99b7-8cbf2de6a85d",
   "metadata": {},
   "outputs": [],
   "source": [
    "# What if we want to create a copy\n",
    "b = flat[3:7].copy()"
   ]
  },
  {
   "cell_type": "code",
   "execution_count": 20,
   "id": "a79c8126-daa4-443b-8dae-106716dc4b5c",
   "metadata": {},
   "outputs": [
    {
     "data": {
      "text/plain": [
       "array([444444,      5,      6,      7])"
      ]
     },
     "execution_count": 20,
     "metadata": {},
     "output_type": "execute_result"
    }
   ],
   "source": [
    "b"
   ]
  },
  {
   "cell_type": "code",
   "execution_count": 21,
   "id": "1a735f06-5708-477b-93b8-46575bc72357",
   "metadata": {},
   "outputs": [
    {
     "data": {
      "text/plain": [
       "array([444444,   9834,      6,      7])"
      ]
     },
     "execution_count": 21,
     "metadata": {},
     "output_type": "execute_result"
    }
   ],
   "source": [
    "b[1]=9834\n",
    "b"
   ]
  },
  {
   "cell_type": "code",
   "execution_count": 23,
   "id": "87e188eb-d399-40a7-9e56-217fb30f41b9",
   "metadata": {},
   "outputs": [
    {
     "data": {
      "text/plain": [
       "array([     1,      2,      3, 444444,      5,      6,      7,      8,\n",
       "            9,     11,     12,     13])"
      ]
     },
     "execution_count": 23,
     "metadata": {},
     "output_type": "execute_result"
    }
   ],
   "source": [
    "# Now this won't affect the original numpy array\n",
    "flat"
   ]
  },
  {
   "cell_type": "code",
   "execution_count": 24,
   "id": "a0a9ecce-8e47-4972-a47f-82d32a626fdd",
   "metadata": {},
   "outputs": [],
   "source": [
    "# Fancy indexing\n",
    "arr = np.array([1,54,23,53,2,3,34,5,6])"
   ]
  },
  {
   "cell_type": "code",
   "execution_count": 25,
   "id": "245c0c6c-9c11-4904-8730-43cd66760acd",
   "metadata": {},
   "outputs": [
    {
     "data": {
      "text/plain": [
       "array([54,  2, 34])"
      ]
     },
     "execution_count": 25,
     "metadata": {},
     "output_type": "execute_result"
    }
   ],
   "source": [
    "# index = [1,4,6]\n",
    "# arr[index]\n",
    "arr[[1,4,6]]"
   ]
  },
  {
   "cell_type": "code",
   "execution_count": 26,
   "id": "1a175276-d297-4681-9a28-96b1509ee43b",
   "metadata": {},
   "outputs": [
    {
     "data": {
      "text/plain": [
       "array([54, 23, 53, 34,  5,  6])"
      ]
     },
     "execution_count": 26,
     "metadata": {},
     "output_type": "execute_result"
    }
   ],
   "source": [
    "# Boolean Masking (filtering on the basis of a condition)\n",
    "arr[arr>3]"
   ]
  },
  {
   "cell_type": "code",
   "execution_count": 27,
   "id": "fe828ee7-060f-4031-9e02-f7c5b0a46bee",
   "metadata": {},
   "outputs": [
    {
     "data": {
      "text/plain": [
       "array([54, 53, 34])"
      ]
     },
     "execution_count": 27,
     "metadata": {},
     "output_type": "execute_result"
    }
   ],
   "source": [
    "arr[arr>23]"
   ]
  },
  {
   "cell_type": "code",
   "execution_count": null,
   "id": "254bb29d-60f8-49b1-81e7-1b52a5c99417",
   "metadata": {},
   "outputs": [],
   "source": []
  }
 ],
 "metadata": {
  "kernelspec": {
   "display_name": "Python 3 (ipykernel)",
   "language": "python",
   "name": "python3"
  },
  "language_info": {
   "codemirror_mode": {
    "name": "ipython",
    "version": 3
   },
   "file_extension": ".py",
   "mimetype": "text/x-python",
   "name": "python",
   "nbconvert_exporter": "python",
   "pygments_lexer": "ipython3",
   "version": "3.13.3"
  }
 },
 "nbformat": 4,
 "nbformat_minor": 5
}
