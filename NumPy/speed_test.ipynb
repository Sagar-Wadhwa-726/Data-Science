{
 "cells": [
  {
   "cell_type": "code",
   "execution_count": 3,
   "id": "e1f5a116-048f-4dae-bb18-02548ac9c26e",
   "metadata": {},
   "outputs": [],
   "source": [
    "# Proving that python lists are slower than NumPy arrays\n",
    "import numpy as np\n",
    "import time "
   ]
  },
  {
   "cell_type": "code",
   "execution_count": 4,
   "id": "d6c826e6-0ed8-45e5-a61f-bde033c2387a",
   "metadata": {},
   "outputs": [],
   "source": [
    "# Python list\n",
    "size = 1_000_000\n",
    "list1 = list(range(size))\n",
    "list2 = list(range(size))"
   ]
  },
  {
   "cell_type": "code",
   "execution_count": 5,
   "id": "d8b89921-c173-48ad-a970-2282ac02bdca",
   "metadata": {},
   "outputs": [
    {
     "name": "stdout",
     "output_type": "stream",
     "text": [
      "Python list addition time :  0.14071130752563477\n"
     ]
    }
   ],
   "source": [
    "start = time.time()\n",
    "result = [x+y for x,y in zip(list1,list2)]\n",
    "end = time.time()\n",
    "print(\"Python list addition time : \", end-start)"
   ]
  },
  {
   "cell_type": "code",
   "execution_count": 6,
   "id": "59309a99-3fd7-4c86-a41a-d6d38db80903",
   "metadata": {},
   "outputs": [
    {
     "name": "stdout",
     "output_type": "stream",
     "text": [
      "NumPy Arrays addition time is :  0.0035123825073242188\n"
     ]
    }
   ],
   "source": [
    "# Addition using numpy arrays (numerical python)\n",
    "\n",
    "l1 = np.array(list(range(size)))\n",
    "l2 = np.array(list(range(size)))\n",
    "\n",
    "start = time.time()\n",
    "add = l1+l2\n",
    "end = time.time()\n",
    "print(\"NumPy Arrays addition time is : \", end-start)"
   ]
  },
  {
   "cell_type": "code",
   "execution_count": 10,
   "id": "ce65783c-9e80-4c88-9029-09d61e7a4409",
   "metadata": {},
   "outputs": [
    {
     "name": "stdout",
     "output_type": "stream",
     "text": [
      "Python list size :  8056000\n",
      "NumPy array size :  8000\n"
     ]
    }
   ],
   "source": [
    "# Comparing the size taken by Python list and numpy arrays\n",
    "import sys\n",
    "list_data = list(range(1000))\n",
    "numpy_data = np.array(list_data)\n",
    "print(\"Python list size : \", sys.getsizeof(list_data) * len(list_data) )\n",
    "print(\"NumPy array size : \", numpy_data.nbytes)"
   ]
  },
  {
   "cell_type": "code",
   "execution_count": 27,
   "id": "7056d817-6d73-4f4c-a3a0-0721018bcf07",
   "metadata": {},
   "outputs": [
    {
     "name": "stdout",
     "output_type": "stream",
     "text": [
      "Time taken for list comprehension operation :  17.911137104034424\n",
      "Time taken for numpy array vectorized operation:  1.875352144241333\n"
     ]
    }
   ],
   "source": [
    "# NumPy supports vectorized operations\n",
    "\n",
    "start = time.time()\n",
    "python_list = list(range(1_000_000_0))\n",
    "python_list = [x ** 50 for x in python_list]\n",
    "end = time.time()\n",
    "print('Time taken for list comprehension operation : ', end-start)\n",
    "\n",
    "start = time.time()\n",
    "numpy_array = np.array(list(range(1_000_000_0)))\n",
    "numpy_array = numpy_array ** 50\n",
    "end = time.time()\n",
    "print('Time taken for numpy array vectorized operation: ', end-start)"
   ]
  },
  {
   "cell_type": "code",
   "execution_count": 28,
   "id": "81b2112d-093c-4f57-98a2-5da0c57a8cba",
   "metadata": {},
   "outputs": [],
   "source": [
    "list_1 = np.array(list(range(10,101)))"
   ]
  },
  {
   "cell_type": "code",
   "execution_count": 29,
   "id": "d27e1a60-edcc-4eb9-88b4-a99fa7985aab",
   "metadata": {},
   "outputs": [
    {
     "data": {
      "text/plain": [
       "array([ 10,  11,  12,  13,  14,  15,  16,  17,  18,  19,  20,  21,  22,\n",
       "        23,  24,  25,  26,  27,  28,  29,  30,  31,  32,  33,  34,  35,\n",
       "        36,  37,  38,  39,  40,  41,  42,  43,  44,  45,  46,  47,  48,\n",
       "        49,  50,  51,  52,  53,  54,  55,  56,  57,  58,  59,  60,  61,\n",
       "        62,  63,  64,  65,  66,  67,  68,  69,  70,  71,  72,  73,  74,\n",
       "        75,  76,  77,  78,  79,  80,  81,  82,  83,  84,  85,  86,  87,\n",
       "        88,  89,  90,  91,  92,  93,  94,  95,  96,  97,  98,  99, 100])"
      ]
     },
     "execution_count": 29,
     "metadata": {},
     "output_type": "execute_result"
    }
   ],
   "source": [
    "list_1"
   ]
  },
  {
   "cell_type": "code",
   "execution_count": 30,
   "id": "72e8738f-6eba-44be-8fa6-dd969da59468",
   "metadata": {},
   "outputs": [
    {
     "data": {
      "text/plain": [
       "(91,)"
      ]
     },
     "execution_count": 30,
     "metadata": {},
     "output_type": "execute_result"
    }
   ],
   "source": [
    "list_1.shape"
   ]
  },
  {
   "cell_type": "code",
   "execution_count": null,
   "id": "5ee98811-117f-4b63-baca-1f6232bc4c72",
   "metadata": {},
   "outputs": [],
   "source": []
  },
  {
   "cell_type": "code",
   "execution_count": null,
   "id": "accbed17-db54-4fe6-9b5a-f4cf91802465",
   "metadata": {},
   "outputs": [],
   "source": []
  }
 ],
 "metadata": {
  "kernelspec": {
   "display_name": "Python 3 (ipykernel)",
   "language": "python",
   "name": "python3"
  },
  "language_info": {
   "codemirror_mode": {
    "name": "ipython",
    "version": 3
   },
   "file_extension": ".py",
   "mimetype": "text/x-python",
   "name": "python",
   "nbconvert_exporter": "python",
   "pygments_lexer": "ipython3",
   "version": "3.13.3"
  }
 },
 "nbformat": 4,
 "nbformat_minor": 5
}
