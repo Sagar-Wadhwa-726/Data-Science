{
 "cells": [
  {
   "cell_type": "code",
   "execution_count": 3,
   "id": "e1f5a116-048f-4dae-bb18-02548ac9c26e",
   "metadata": {},
   "outputs": [],
   "source": [
    "# Proving that python lists are slower than NumPy arrays\n",
    "import numpy as np\n",
    "import time "
   ]
  },
  {
   "cell_type": "code",
   "execution_count": 4,
   "id": "d6c826e6-0ed8-45e5-a61f-bde033c2387a",
   "metadata": {},
   "outputs": [],
   "source": [
    "# Python list\n",
    "size = 1_000_000\n",
    "list1 = list(range(size))\n",
    "list2 = list(range(size))"
   ]
  },
  {
   "cell_type": "code",
   "execution_count": 5,
   "id": "d8b89921-c173-48ad-a970-2282ac02bdca",
   "metadata": {},
   "outputs": [
    {
     "name": "stdout",
     "output_type": "stream",
     "text": [
      "Python list addition time :  0.14071130752563477\n"
     ]
    }
   ],
   "source": [
    "start = time.time()\n",
    "result = [x+y for x,y in zip(list1,list2)]\n",
    "end = time.time()\n",
    "print(\"Python list addition time : \", end-start)"
   ]
  },
  {
   "cell_type": "code",
   "execution_count": 6,
   "id": "59309a99-3fd7-4c86-a41a-d6d38db80903",
   "metadata": {},
   "outputs": [
    {
     "name": "stdout",
     "output_type": "stream",
     "text": [
      "NumPy Arrays addition time is :  0.0035123825073242188\n"
     ]
    }
   ],
   "source": [
    "# Addition using numpy arrays (numerical python)\n",
    "\n",
    "l1 = np.array(list(range(size)))\n",
    "l2 = np.array(list(range(size)))\n",
    "\n",
    "start = time.time()\n",
    "add = l1+l2\n",
    "end = time.time()\n",
    "print(\"NumPy Arrays addition time is : \", end-start)"
   ]
  },
  {
   "cell_type": "code",
   "execution_count": 10,
   "id": "ce65783c-9e80-4c88-9029-09d61e7a4409",
   "metadata": {},
   "outputs": [
    {
     "name": "stdout",
     "output_type": "stream",
     "text": [
      "Python list size :  8056000\n",
      "NumPy array size :  8000\n"
     ]
    }
   ],
   "source": [
    "# Comparing the size taken by Python list and numpy arrays\n",
    "import sys\n",
    "list_data = list(range(1000))\n",
    "numpy_data = np.array(list_data)\n",
    "print(\"Python list size : \", sys.getsizeof(list_data) * len(list_data) )\n",
    "print(\"NumPy array size : \", numpy_data.nbytes)"
   ]
  },
  {
   "cell_type": "code",
   "execution_count": null,
   "id": "7056d817-6d73-4f4c-a3a0-0721018bcf07",
   "metadata": {},
   "outputs": [],
   "source": [
    "# NumPy supports vectorized operations\n",
    "\n",
    "start = time.time()\n",
    "python_list = list(range(1_000_000_0))\n",
    "python_list = [x ** 50 for x in python_list]\n",
    "end = time.time()\n",
    "print('Time taken for list comprehension operation : ', end-start)\n",
    "\n",
    "start = time.time()\n",
    "numpy_array = np.array(list(range(1_000_000_0)))\n",
    "numpy_array = numpy_array ** 50\n",
    "end = time.time()\n",
    "print('Time taken for numpy array vectorized operation: ', end-start)"
   ]
  },
  {
   "cell_type": "code",
   "execution_count": null,
   "id": "81b2112d-093c-4f57-98a2-5da0c57a8cba",
   "metadata": {},
   "outputs": [],
   "source": [
    "list_1 = np.array(list(range(10,101)))"
   ]
  },
  {
   "cell_type": "code",
   "execution_count": null,
   "id": "d27e1a60-edcc-4eb9-88b4-a99fa7985aab",
   "metadata": {},
   "outputs": [],
   "source": [
    "list_1"
   ]
  },
  {
   "cell_type": "code",
   "execution_count": null,
   "id": "72e8738f-6eba-44be-8fa6-dd969da59468",
   "metadata": {},
   "outputs": [],
   "source": [
    "list_1.shape"
   ]
  },
  {
   "cell_type": "code",
   "execution_count": null,
   "id": "5ee98811-117f-4b63-baca-1f6232bc4c72",
   "metadata": {},
   "outputs": [],
   "source": []
  },
  {
   "cell_type": "code",
   "execution_count": null,
   "id": "accbed17-db54-4fe6-9b5a-f4cf91802465",
   "metadata": {},
   "outputs": [],
   "source": []
  }
 ],
 "metadata": {
  "kernelspec": {
   "display_name": "Python 3 (ipykernel)",
   "language": "python",
   "name": "python3"
  },
  "language_info": {
   "codemirror_mode": {
    "name": "ipython",
    "version": 3
   },
   "file_extension": ".py",
   "mimetype": "text/x-python",
   "name": "python",
   "nbconvert_exporter": "python",
   "pygments_lexer": "ipython3",
   "version": "3.13.3"
  }
 },
 "nbformat": 4,
 "nbformat_minor": 5
}
