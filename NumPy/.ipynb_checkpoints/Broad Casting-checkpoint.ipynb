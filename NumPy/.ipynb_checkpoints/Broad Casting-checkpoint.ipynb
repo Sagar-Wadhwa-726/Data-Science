{
 "cells": [
  {
   "cell_type": "code",
   "execution_count": 2,
   "id": "5c87a6d9-0e59-4245-9e12-b8d70fac305c",
   "metadata": {},
   "outputs": [],
   "source": [
    "# Broadcasting in NumPy\n",
    "\n",
    "import numpy as np\n"
   ]
  },
  {
   "cell_type": "code",
   "execution_count": 3,
   "id": "ff4bfb51-d65e-421a-a484-365f420d3b69",
   "metadata": {},
   "outputs": [],
   "source": [
    "arr = np.array([1,2,3,4,5])"
   ]
  },
  {
   "cell_type": "code",
   "execution_count": 6,
   "id": "2441ba42-951e-44b7-aa9c-e07347ce5e96",
   "metadata": {},
   "outputs": [],
   "source": [
    "# Here, the scalar 10 is \"broadcast\" across the entire array, and no extra memory is used\n",
    "# 10 is being broadcasted to the array\n",
    "result = arr + 10"
   ]
  },
  {
   "cell_type": "code",
   "execution_count": 5,
   "id": "1322ec7f-ed45-4337-8aa7-eceaac3f4082",
   "metadata": {},
   "outputs": [
    {
     "name": "stdout",
     "output_type": "stream",
     "text": [
      "[11 12 13 14 15]\n"
     ]
    }
   ],
   "source": [
    "print(result)"
   ]
  },
  {
   "cell_type": "code",
   "execution_count": 9,
   "id": "7bc2e61c-7924-4d13-8ca2-fa3eeb50b5d0",
   "metadata": {},
   "outputs": [
    {
     "data": {
      "text/plain": [
       "array([5, 7, 9])"
      ]
     },
     "execution_count": 9,
     "metadata": {},
     "output_type": "execute_result"
    }
   ],
   "source": [
    "arr1 =  np.array([1,2,3])\n",
    "arr2 = np.array([4,5,6])\n",
    "\n",
    "# We can broadcast a vector also\n",
    "result = arr1 + arr2\n",
    "result"
   ]
  },
  {
   "cell_type": "code",
   "execution_count": 15,
   "id": "f2bac8a8-335e-4ade-ba06-8a910aaa8d72",
   "metadata": {},
   "outputs": [
    {
     "data": {
      "text/plain": [
       "array([[2, 4, 6],\n",
       "       [5, 7, 9]])"
      ]
     },
     "execution_count": 15,
     "metadata": {},
     "output_type": "execute_result"
    }
   ],
   "source": [
    "# Here second array is being broadcasted to every row of first array\n",
    "first_array = np.array([[1,2,3],[4,5,6]])\n",
    "second_array = np.array([1,2,3])\n",
    "result = first_array + second_array\n",
    "result"
   ]
  },
  {
   "cell_type": "code",
   "execution_count": 16,
   "id": "c77c7f64-f06c-4ec7-824f-dd8ebfd5f33c",
   "metadata": {},
   "outputs": [],
   "source": [
    "# Dimensions must be compatible - The size of the trailing dimensions of the arrays must be either the same or one of \n",
    "# them must be 1\n",
    "\n",
    "# Stretching arrays : If the shapes are compatible, NumPy stretches the smaller array to match the largeer one, element-wise\n",
    "# without copying data\n"
   ]
  },
  {
   "cell_type": "code",
   "execution_count": 19,
   "id": "e92144e3-c748-415b-9eb1-5c10f0a237e9",
   "metadata": {},
   "outputs": [
    {
     "data": {
      "text/plain": [
       "array([20., 30., 40.])"
      ]
     },
     "execution_count": 19,
     "metadata": {},
     "output_type": "execute_result"
    }
   ],
   "source": [
    "# Normalization = subtract mean and divide by Standard Deviation\n",
    "\n",
    "data = np.array([[10,20,30],\n",
    "                [15,25,35],\n",
    "                [20,30,40],\n",
    "                [25,35,45],\n",
    "                [30,40,50]])\n",
    "\n",
    "mean = data.mean(axis=0)\n",
    "std = data.std(axis=0)\n",
    "mean "
   ]
  },
  {
   "cell_type": "code",
   "execution_count": 20,
   "id": "bc90ba4a-87d1-4444-8bbf-30d2b7e6dc5f",
   "metadata": {},
   "outputs": [
    {
     "data": {
      "text/plain": [
       "array([7.07106781, 7.07106781, 7.07106781])"
      ]
     },
     "execution_count": 20,
     "metadata": {},
     "output_type": "execute_result"
    }
   ],
   "source": [
    "std"
   ]
  },
  {
   "cell_type": "code",
   "execution_count": 21,
   "id": "ba5ccfc7-7e67-40c7-a17c-a4d3786ad797",
   "metadata": {},
   "outputs": [
    {
     "data": {
      "text/plain": [
       "array([[-1.41421356, -1.41421356, -1.41421356],\n",
       "       [-0.70710678, -0.70710678, -0.70710678],\n",
       "       [ 0.        ,  0.        ,  0.        ],\n",
       "       [ 0.70710678,  0.70710678,  0.70710678],\n",
       "       [ 1.41421356,  1.41421356,  1.41421356]])"
      ]
     },
     "execution_count": 21,
     "metadata": {},
     "output_type": "execute_result"
    }
   ],
   "source": [
    "# This is how broadcasting can be used in real world scenarios\n",
    "normalized_data = ((data-mean)/(std))\n",
    "normalized_data"
   ]
  },
  {
   "cell_type": "code",
   "execution_count": null,
   "id": "8a53ad76-ce63-4118-b504-10319071c723",
   "metadata": {},
   "outputs": [],
   "source": []
  }
 ],
 "metadata": {
  "kernelspec": {
   "display_name": "Python 3 (ipykernel)",
   "language": "python",
   "name": "python3"
  },
  "language_info": {
   "codemirror_mode": {
    "name": "ipython",
    "version": 3
   },
   "file_extension": ".py",
   "mimetype": "text/x-python",
   "name": "python",
   "nbconvert_exporter": "python",
   "pygments_lexer": "ipython3",
   "version": "3.13.3"
  }
 },
 "nbformat": 4,
 "nbformat_minor": 5
}
